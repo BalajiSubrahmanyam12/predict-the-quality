{
  "nbformat": 4,
  "nbformat_minor": 0,
  "metadata": {
    "colab": {
      "name": "ML_Mini_project.ipynb",
      "provenance": []
    },
    "kernelspec": {
      "name": "python3",
      "display_name": "Python 3"
    },
    "language_info": {
      "name": "python"
    }
  },
  "cells": [
    {
      "cell_type": "code",
      "metadata": {
        "id": "Q6wSpZ5GQ3Lo"
      },
      "source": [
        "import pandas as pd"
      ],
      "execution_count": null,
      "outputs": []
    },
    {
      "cell_type": "code",
      "metadata": {
        "id": "-C8IfirHQ_P9"
      },
      "source": [
        "df = pd.read_csv(\"/content/winequality-red.csv\")"
      ],
      "execution_count": null,
      "outputs": []
    },
    {
      "cell_type": "code",
      "metadata": {
        "colab": {
          "base_uri": "https://localhost:8080/",
          "height": 417
        },
        "id": "OIHXQqN3Rh6d",
        "outputId": "5c810c28-460c-490b-dbcc-4ad762cfc1c2"
      },
      "source": [
        "df"
      ],
      "execution_count": null,
      "outputs": [
        {
          "output_type": "execute_result",
          "data": {
            "text/html": [
              "<div>\n",
              "<style scoped>\n",
              "    .dataframe tbody tr th:only-of-type {\n",
              "        vertical-align: middle;\n",
              "    }\n",
              "\n",
              "    .dataframe tbody tr th {\n",
              "        vertical-align: top;\n",
              "    }\n",
              "\n",
              "    .dataframe thead th {\n",
              "        text-align: right;\n",
              "    }\n",
              "</style>\n",
              "<table border=\"1\" class=\"dataframe\">\n",
              "  <thead>\n",
              "    <tr style=\"text-align: right;\">\n",
              "      <th></th>\n",
              "      <th>fixed acidity</th>\n",
              "      <th>volatile acidity</th>\n",
              "      <th>citric acid</th>\n",
              "      <th>residual sugar</th>\n",
              "      <th>chlorides</th>\n",
              "      <th>free sulfur dioxide</th>\n",
              "      <th>total sulfur dioxide</th>\n",
              "      <th>density</th>\n",
              "      <th>pH</th>\n",
              "      <th>sulphates</th>\n",
              "      <th>alcohol</th>\n",
              "      <th>quality</th>\n",
              "    </tr>\n",
              "  </thead>\n",
              "  <tbody>\n",
              "    <tr>\n",
              "      <th>0</th>\n",
              "      <td>7.4</td>\n",
              "      <td>0.700</td>\n",
              "      <td>0.00</td>\n",
              "      <td>1.9</td>\n",
              "      <td>0.076</td>\n",
              "      <td>11.0</td>\n",
              "      <td>34.0</td>\n",
              "      <td>0.99780</td>\n",
              "      <td>3.51</td>\n",
              "      <td>0.56</td>\n",
              "      <td>9.4</td>\n",
              "      <td>5</td>\n",
              "    </tr>\n",
              "    <tr>\n",
              "      <th>1</th>\n",
              "      <td>7.8</td>\n",
              "      <td>0.880</td>\n",
              "      <td>0.00</td>\n",
              "      <td>2.6</td>\n",
              "      <td>0.098</td>\n",
              "      <td>25.0</td>\n",
              "      <td>67.0</td>\n",
              "      <td>0.99680</td>\n",
              "      <td>3.20</td>\n",
              "      <td>0.68</td>\n",
              "      <td>9.8</td>\n",
              "      <td>5</td>\n",
              "    </tr>\n",
              "    <tr>\n",
              "      <th>2</th>\n",
              "      <td>7.8</td>\n",
              "      <td>0.760</td>\n",
              "      <td>0.04</td>\n",
              "      <td>2.3</td>\n",
              "      <td>0.092</td>\n",
              "      <td>15.0</td>\n",
              "      <td>54.0</td>\n",
              "      <td>0.99700</td>\n",
              "      <td>3.26</td>\n",
              "      <td>0.65</td>\n",
              "      <td>9.8</td>\n",
              "      <td>5</td>\n",
              "    </tr>\n",
              "    <tr>\n",
              "      <th>3</th>\n",
              "      <td>11.2</td>\n",
              "      <td>0.280</td>\n",
              "      <td>0.56</td>\n",
              "      <td>1.9</td>\n",
              "      <td>0.075</td>\n",
              "      <td>17.0</td>\n",
              "      <td>60.0</td>\n",
              "      <td>0.99800</td>\n",
              "      <td>3.16</td>\n",
              "      <td>0.58</td>\n",
              "      <td>9.8</td>\n",
              "      <td>6</td>\n",
              "    </tr>\n",
              "    <tr>\n",
              "      <th>4</th>\n",
              "      <td>7.4</td>\n",
              "      <td>0.700</td>\n",
              "      <td>0.00</td>\n",
              "      <td>1.9</td>\n",
              "      <td>0.076</td>\n",
              "      <td>11.0</td>\n",
              "      <td>34.0</td>\n",
              "      <td>0.99780</td>\n",
              "      <td>3.51</td>\n",
              "      <td>0.56</td>\n",
              "      <td>9.4</td>\n",
              "      <td>5</td>\n",
              "    </tr>\n",
              "    <tr>\n",
              "      <th>...</th>\n",
              "      <td>...</td>\n",
              "      <td>...</td>\n",
              "      <td>...</td>\n",
              "      <td>...</td>\n",
              "      <td>...</td>\n",
              "      <td>...</td>\n",
              "      <td>...</td>\n",
              "      <td>...</td>\n",
              "      <td>...</td>\n",
              "      <td>...</td>\n",
              "      <td>...</td>\n",
              "      <td>...</td>\n",
              "    </tr>\n",
              "    <tr>\n",
              "      <th>1594</th>\n",
              "      <td>6.2</td>\n",
              "      <td>0.600</td>\n",
              "      <td>0.08</td>\n",
              "      <td>2.0</td>\n",
              "      <td>0.090</td>\n",
              "      <td>32.0</td>\n",
              "      <td>44.0</td>\n",
              "      <td>0.99490</td>\n",
              "      <td>3.45</td>\n",
              "      <td>0.58</td>\n",
              "      <td>10.5</td>\n",
              "      <td>5</td>\n",
              "    </tr>\n",
              "    <tr>\n",
              "      <th>1595</th>\n",
              "      <td>5.9</td>\n",
              "      <td>0.550</td>\n",
              "      <td>0.10</td>\n",
              "      <td>2.2</td>\n",
              "      <td>0.062</td>\n",
              "      <td>39.0</td>\n",
              "      <td>51.0</td>\n",
              "      <td>0.99512</td>\n",
              "      <td>3.52</td>\n",
              "      <td>0.76</td>\n",
              "      <td>11.2</td>\n",
              "      <td>6</td>\n",
              "    </tr>\n",
              "    <tr>\n",
              "      <th>1596</th>\n",
              "      <td>6.3</td>\n",
              "      <td>0.510</td>\n",
              "      <td>0.13</td>\n",
              "      <td>2.3</td>\n",
              "      <td>0.076</td>\n",
              "      <td>29.0</td>\n",
              "      <td>40.0</td>\n",
              "      <td>0.99574</td>\n",
              "      <td>3.42</td>\n",
              "      <td>0.75</td>\n",
              "      <td>11.0</td>\n",
              "      <td>6</td>\n",
              "    </tr>\n",
              "    <tr>\n",
              "      <th>1597</th>\n",
              "      <td>5.9</td>\n",
              "      <td>0.645</td>\n",
              "      <td>0.12</td>\n",
              "      <td>2.0</td>\n",
              "      <td>0.075</td>\n",
              "      <td>32.0</td>\n",
              "      <td>44.0</td>\n",
              "      <td>0.99547</td>\n",
              "      <td>3.57</td>\n",
              "      <td>0.71</td>\n",
              "      <td>10.2</td>\n",
              "      <td>5</td>\n",
              "    </tr>\n",
              "    <tr>\n",
              "      <th>1598</th>\n",
              "      <td>6.0</td>\n",
              "      <td>0.310</td>\n",
              "      <td>0.47</td>\n",
              "      <td>3.6</td>\n",
              "      <td>0.067</td>\n",
              "      <td>18.0</td>\n",
              "      <td>42.0</td>\n",
              "      <td>0.99549</td>\n",
              "      <td>3.39</td>\n",
              "      <td>0.66</td>\n",
              "      <td>11.0</td>\n",
              "      <td>6</td>\n",
              "    </tr>\n",
              "  </tbody>\n",
              "</table>\n",
              "<p>1599 rows × 12 columns</p>\n",
              "</div>"
            ],
            "text/plain": [
              "      fixed acidity  volatile acidity  citric acid  ...  sulphates  alcohol  quality\n",
              "0               7.4             0.700         0.00  ...       0.56      9.4        5\n",
              "1               7.8             0.880         0.00  ...       0.68      9.8        5\n",
              "2               7.8             0.760         0.04  ...       0.65      9.8        5\n",
              "3              11.2             0.280         0.56  ...       0.58      9.8        6\n",
              "4               7.4             0.700         0.00  ...       0.56      9.4        5\n",
              "...             ...               ...          ...  ...        ...      ...      ...\n",
              "1594            6.2             0.600         0.08  ...       0.58     10.5        5\n",
              "1595            5.9             0.550         0.10  ...       0.76     11.2        6\n",
              "1596            6.3             0.510         0.13  ...       0.75     11.0        6\n",
              "1597            5.9             0.645         0.12  ...       0.71     10.2        5\n",
              "1598            6.0             0.310         0.47  ...       0.66     11.0        6\n",
              "\n",
              "[1599 rows x 12 columns]"
            ]
          },
          "metadata": {},
          "execution_count": 4
        }
      ]
    },
    {
      "cell_type": "code",
      "metadata": {
        "id": "b4A7c_X-Rin_"
      },
      "source": [
        "x = df.iloc[:,:11].values"
      ],
      "execution_count": null,
      "outputs": []
    },
    {
      "cell_type": "code",
      "metadata": {
        "colab": {
          "base_uri": "https://localhost:8080/"
        },
        "id": "Ftv8Ey40RyPg",
        "outputId": "752af432-c8f8-47d3-f39e-30065f03382c"
      },
      "source": [
        "x"
      ],
      "execution_count": null,
      "outputs": [
        {
          "output_type": "execute_result",
          "data": {
            "text/plain": [
              "array([[ 7.4  ,  0.7  ,  0.   , ...,  3.51 ,  0.56 ,  9.4  ],\n",
              "       [ 7.8  ,  0.88 ,  0.   , ...,  3.2  ,  0.68 ,  9.8  ],\n",
              "       [ 7.8  ,  0.76 ,  0.04 , ...,  3.26 ,  0.65 ,  9.8  ],\n",
              "       ...,\n",
              "       [ 6.3  ,  0.51 ,  0.13 , ...,  3.42 ,  0.75 , 11.   ],\n",
              "       [ 5.9  ,  0.645,  0.12 , ...,  3.57 ,  0.71 , 10.2  ],\n",
              "       [ 6.   ,  0.31 ,  0.47 , ...,  3.39 ,  0.66 , 11.   ]])"
            ]
          },
          "metadata": {},
          "execution_count": 6
        }
      ]
    },
    {
      "cell_type": "code",
      "metadata": {
        "colab": {
          "base_uri": "https://localhost:8080/"
        },
        "id": "C3NqlPuxmZKr",
        "outputId": "4d9c8a50-fbc8-40e5-a3f2-c5ec14936fdb"
      },
      "source": [
        "type(x)"
      ],
      "execution_count": null,
      "outputs": [
        {
          "output_type": "execute_result",
          "data": {
            "text/plain": [
              "numpy.ndarray"
            ]
          },
          "metadata": {},
          "execution_count": 7
        }
      ]
    },
    {
      "cell_type": "code",
      "metadata": {
        "id": "ALn_Y09sSfBo"
      },
      "source": [
        "y = df.iloc[:,11].values"
      ],
      "execution_count": null,
      "outputs": []
    },
    {
      "cell_type": "code",
      "metadata": {
        "colab": {
          "base_uri": "https://localhost:8080/"
        },
        "id": "TwtUZZjESqZm",
        "outputId": "a4fe1d2d-74bb-404d-ce6b-50290afa69d5"
      },
      "source": [
        "y"
      ],
      "execution_count": null,
      "outputs": [
        {
          "output_type": "execute_result",
          "data": {
            "text/plain": [
              "array([5, 5, 5, ..., 6, 5, 6])"
            ]
          },
          "metadata": {},
          "execution_count": 9
        }
      ]
    },
    {
      "cell_type": "code",
      "metadata": {
        "colab": {
          "base_uri": "https://localhost:8080/",
          "height": 418
        },
        "id": "UyWoiAPSSrNk",
        "outputId": "1b39f2d5-39b1-4563-d577-87d2e8e891b0"
      },
      "source": [
        "df.corr()"
      ],
      "execution_count": null,
      "outputs": [
        {
          "output_type": "execute_result",
          "data": {
            "text/html": [
              "<div>\n",
              "<style scoped>\n",
              "    .dataframe tbody tr th:only-of-type {\n",
              "        vertical-align: middle;\n",
              "    }\n",
              "\n",
              "    .dataframe tbody tr th {\n",
              "        vertical-align: top;\n",
              "    }\n",
              "\n",
              "    .dataframe thead th {\n",
              "        text-align: right;\n",
              "    }\n",
              "</style>\n",
              "<table border=\"1\" class=\"dataframe\">\n",
              "  <thead>\n",
              "    <tr style=\"text-align: right;\">\n",
              "      <th></th>\n",
              "      <th>fixed acidity</th>\n",
              "      <th>volatile acidity</th>\n",
              "      <th>citric acid</th>\n",
              "      <th>residual sugar</th>\n",
              "      <th>chlorides</th>\n",
              "      <th>free sulfur dioxide</th>\n",
              "      <th>total sulfur dioxide</th>\n",
              "      <th>density</th>\n",
              "      <th>pH</th>\n",
              "      <th>sulphates</th>\n",
              "      <th>alcohol</th>\n",
              "      <th>quality</th>\n",
              "    </tr>\n",
              "  </thead>\n",
              "  <tbody>\n",
              "    <tr>\n",
              "      <th>fixed acidity</th>\n",
              "      <td>1.000000</td>\n",
              "      <td>-0.256131</td>\n",
              "      <td>0.671703</td>\n",
              "      <td>0.114777</td>\n",
              "      <td>0.093705</td>\n",
              "      <td>-0.153794</td>\n",
              "      <td>-0.113181</td>\n",
              "      <td>0.668047</td>\n",
              "      <td>-0.682978</td>\n",
              "      <td>0.183006</td>\n",
              "      <td>-0.061668</td>\n",
              "      <td>0.124052</td>\n",
              "    </tr>\n",
              "    <tr>\n",
              "      <th>volatile acidity</th>\n",
              "      <td>-0.256131</td>\n",
              "      <td>1.000000</td>\n",
              "      <td>-0.552496</td>\n",
              "      <td>0.001918</td>\n",
              "      <td>0.061298</td>\n",
              "      <td>-0.010504</td>\n",
              "      <td>0.076470</td>\n",
              "      <td>0.022026</td>\n",
              "      <td>0.234937</td>\n",
              "      <td>-0.260987</td>\n",
              "      <td>-0.202288</td>\n",
              "      <td>-0.390558</td>\n",
              "    </tr>\n",
              "    <tr>\n",
              "      <th>citric acid</th>\n",
              "      <td>0.671703</td>\n",
              "      <td>-0.552496</td>\n",
              "      <td>1.000000</td>\n",
              "      <td>0.143577</td>\n",
              "      <td>0.203823</td>\n",
              "      <td>-0.060978</td>\n",
              "      <td>0.035533</td>\n",
              "      <td>0.364947</td>\n",
              "      <td>-0.541904</td>\n",
              "      <td>0.312770</td>\n",
              "      <td>0.109903</td>\n",
              "      <td>0.226373</td>\n",
              "    </tr>\n",
              "    <tr>\n",
              "      <th>residual sugar</th>\n",
              "      <td>0.114777</td>\n",
              "      <td>0.001918</td>\n",
              "      <td>0.143577</td>\n",
              "      <td>1.000000</td>\n",
              "      <td>0.055610</td>\n",
              "      <td>0.187049</td>\n",
              "      <td>0.203028</td>\n",
              "      <td>0.355283</td>\n",
              "      <td>-0.085652</td>\n",
              "      <td>0.005527</td>\n",
              "      <td>0.042075</td>\n",
              "      <td>0.013732</td>\n",
              "    </tr>\n",
              "    <tr>\n",
              "      <th>chlorides</th>\n",
              "      <td>0.093705</td>\n",
              "      <td>0.061298</td>\n",
              "      <td>0.203823</td>\n",
              "      <td>0.055610</td>\n",
              "      <td>1.000000</td>\n",
              "      <td>0.005562</td>\n",
              "      <td>0.047400</td>\n",
              "      <td>0.200632</td>\n",
              "      <td>-0.265026</td>\n",
              "      <td>0.371260</td>\n",
              "      <td>-0.221141</td>\n",
              "      <td>-0.128907</td>\n",
              "    </tr>\n",
              "    <tr>\n",
              "      <th>free sulfur dioxide</th>\n",
              "      <td>-0.153794</td>\n",
              "      <td>-0.010504</td>\n",
              "      <td>-0.060978</td>\n",
              "      <td>0.187049</td>\n",
              "      <td>0.005562</td>\n",
              "      <td>1.000000</td>\n",
              "      <td>0.667666</td>\n",
              "      <td>-0.021946</td>\n",
              "      <td>0.070377</td>\n",
              "      <td>0.051658</td>\n",
              "      <td>-0.069408</td>\n",
              "      <td>-0.050656</td>\n",
              "    </tr>\n",
              "    <tr>\n",
              "      <th>total sulfur dioxide</th>\n",
              "      <td>-0.113181</td>\n",
              "      <td>0.076470</td>\n",
              "      <td>0.035533</td>\n",
              "      <td>0.203028</td>\n",
              "      <td>0.047400</td>\n",
              "      <td>0.667666</td>\n",
              "      <td>1.000000</td>\n",
              "      <td>0.071269</td>\n",
              "      <td>-0.066495</td>\n",
              "      <td>0.042947</td>\n",
              "      <td>-0.205654</td>\n",
              "      <td>-0.185100</td>\n",
              "    </tr>\n",
              "    <tr>\n",
              "      <th>density</th>\n",
              "      <td>0.668047</td>\n",
              "      <td>0.022026</td>\n",
              "      <td>0.364947</td>\n",
              "      <td>0.355283</td>\n",
              "      <td>0.200632</td>\n",
              "      <td>-0.021946</td>\n",
              "      <td>0.071269</td>\n",
              "      <td>1.000000</td>\n",
              "      <td>-0.341699</td>\n",
              "      <td>0.148506</td>\n",
              "      <td>-0.496180</td>\n",
              "      <td>-0.174919</td>\n",
              "    </tr>\n",
              "    <tr>\n",
              "      <th>pH</th>\n",
              "      <td>-0.682978</td>\n",
              "      <td>0.234937</td>\n",
              "      <td>-0.541904</td>\n",
              "      <td>-0.085652</td>\n",
              "      <td>-0.265026</td>\n",
              "      <td>0.070377</td>\n",
              "      <td>-0.066495</td>\n",
              "      <td>-0.341699</td>\n",
              "      <td>1.000000</td>\n",
              "      <td>-0.196648</td>\n",
              "      <td>0.205633</td>\n",
              "      <td>-0.057731</td>\n",
              "    </tr>\n",
              "    <tr>\n",
              "      <th>sulphates</th>\n",
              "      <td>0.183006</td>\n",
              "      <td>-0.260987</td>\n",
              "      <td>0.312770</td>\n",
              "      <td>0.005527</td>\n",
              "      <td>0.371260</td>\n",
              "      <td>0.051658</td>\n",
              "      <td>0.042947</td>\n",
              "      <td>0.148506</td>\n",
              "      <td>-0.196648</td>\n",
              "      <td>1.000000</td>\n",
              "      <td>0.093595</td>\n",
              "      <td>0.251397</td>\n",
              "    </tr>\n",
              "    <tr>\n",
              "      <th>alcohol</th>\n",
              "      <td>-0.061668</td>\n",
              "      <td>-0.202288</td>\n",
              "      <td>0.109903</td>\n",
              "      <td>0.042075</td>\n",
              "      <td>-0.221141</td>\n",
              "      <td>-0.069408</td>\n",
              "      <td>-0.205654</td>\n",
              "      <td>-0.496180</td>\n",
              "      <td>0.205633</td>\n",
              "      <td>0.093595</td>\n",
              "      <td>1.000000</td>\n",
              "      <td>0.476166</td>\n",
              "    </tr>\n",
              "    <tr>\n",
              "      <th>quality</th>\n",
              "      <td>0.124052</td>\n",
              "      <td>-0.390558</td>\n",
              "      <td>0.226373</td>\n",
              "      <td>0.013732</td>\n",
              "      <td>-0.128907</td>\n",
              "      <td>-0.050656</td>\n",
              "      <td>-0.185100</td>\n",
              "      <td>-0.174919</td>\n",
              "      <td>-0.057731</td>\n",
              "      <td>0.251397</td>\n",
              "      <td>0.476166</td>\n",
              "      <td>1.000000</td>\n",
              "    </tr>\n",
              "  </tbody>\n",
              "</table>\n",
              "</div>"
            ],
            "text/plain": [
              "                      fixed acidity  volatile acidity  ...   alcohol   quality\n",
              "fixed acidity              1.000000         -0.256131  ... -0.061668  0.124052\n",
              "volatile acidity          -0.256131          1.000000  ... -0.202288 -0.390558\n",
              "citric acid                0.671703         -0.552496  ...  0.109903  0.226373\n",
              "residual sugar             0.114777          0.001918  ...  0.042075  0.013732\n",
              "chlorides                  0.093705          0.061298  ... -0.221141 -0.128907\n",
              "free sulfur dioxide       -0.153794         -0.010504  ... -0.069408 -0.050656\n",
              "total sulfur dioxide      -0.113181          0.076470  ... -0.205654 -0.185100\n",
              "density                    0.668047          0.022026  ... -0.496180 -0.174919\n",
              "pH                        -0.682978          0.234937  ...  0.205633 -0.057731\n",
              "sulphates                  0.183006         -0.260987  ...  0.093595  0.251397\n",
              "alcohol                   -0.061668         -0.202288  ...  1.000000  0.476166\n",
              "quality                    0.124052         -0.390558  ...  0.476166  1.000000\n",
              "\n",
              "[12 rows x 12 columns]"
            ]
          },
          "metadata": {},
          "execution_count": 10
        }
      ]
    },
    {
      "cell_type": "code",
      "metadata": {
        "colab": {
          "base_uri": "https://localhost:8080/"
        },
        "id": "1ToS87rMSyq1",
        "outputId": "97e9d95b-6b69-4815-c886-b4760855070b"
      },
      "source": [
        "x.shape"
      ],
      "execution_count": null,
      "outputs": [
        {
          "output_type": "execute_result",
          "data": {
            "text/plain": [
              "(1599, 11)"
            ]
          },
          "metadata": {},
          "execution_count": 11
        }
      ]
    },
    {
      "cell_type": "code",
      "metadata": {
        "colab": {
          "base_uri": "https://localhost:8080/"
        },
        "id": "PVcPMPpGTCqF",
        "outputId": "3d5f7a01-cd83-43a6-f80f-5b90413fd53f"
      },
      "source": [
        "y.shape"
      ],
      "execution_count": null,
      "outputs": [
        {
          "output_type": "execute_result",
          "data": {
            "text/plain": [
              "(1599,)"
            ]
          },
          "metadata": {},
          "execution_count": 12
        }
      ]
    },
    {
      "cell_type": "code",
      "metadata": {
        "id": "LwL3SxGYTEEb"
      },
      "source": [
        "from sklearn.model_selection import train_test_split"
      ],
      "execution_count": null,
      "outputs": []
    },
    {
      "cell_type": "code",
      "metadata": {
        "id": "PHGbmQ8eUeZh"
      },
      "source": [
        "train_x, test_x, train_y, test_y = train_test_split(x,y, test_size = 0.2)"
      ],
      "execution_count": null,
      "outputs": []
    },
    {
      "cell_type": "code",
      "metadata": {
        "colab": {
          "base_uri": "https://localhost:8080/"
        },
        "id": "nHfjgQPfUiXz",
        "outputId": "e2adc4f8-2243-4b97-8b93-b0479a78c240"
      },
      "source": [
        "train_x.shape"
      ],
      "execution_count": null,
      "outputs": [
        {
          "output_type": "execute_result",
          "data": {
            "text/plain": [
              "(1279, 11)"
            ]
          },
          "metadata": {},
          "execution_count": 15
        }
      ]
    },
    {
      "cell_type": "code",
      "metadata": {
        "colab": {
          "base_uri": "https://localhost:8080/"
        },
        "id": "NUnKtLJvUmTf",
        "outputId": "c004e34f-afbe-4fec-b1e4-6d421b661578"
      },
      "source": [
        "train_y.shape"
      ],
      "execution_count": null,
      "outputs": [
        {
          "output_type": "execute_result",
          "data": {
            "text/plain": [
              "(1279,)"
            ]
          },
          "metadata": {},
          "execution_count": 16
        }
      ]
    },
    {
      "cell_type": "code",
      "metadata": {
        "colab": {
          "base_uri": "https://localhost:8080/"
        },
        "id": "fbH4-7_BUoNq",
        "outputId": "924aeef3-bebb-4daa-d439-8b56efb63830"
      },
      "source": [
        "test_x"
      ],
      "execution_count": null,
      "outputs": [
        {
          "output_type": "execute_result",
          "data": {
            "text/plain": [
              "array([[ 8.1  ,  0.38 ,  0.48 , ...,  3.3  ,  1.05 ,  9.4  ],\n",
              "       [ 6.8  ,  0.775,  0.   , ...,  3.45 ,  0.56 , 10.7  ],\n",
              "       [ 8.1  ,  0.87 ,  0.   , ...,  3.25 ,  0.5  ,  9.8  ],\n",
              "       ...,\n",
              "       [10.   ,  0.38 ,  0.38 , ...,  3.15 ,  0.65 ,  8.5  ],\n",
              "       [ 8.6  ,  0.37 ,  0.65 , ...,  3.27 ,  0.58 , 11.   ],\n",
              "       [ 9.2  ,  0.43 ,  0.52 , ...,  3.35 ,  0.61 , 11.3  ]])"
            ]
          },
          "metadata": {},
          "execution_count": 17
        }
      ]
    },
    {
      "cell_type": "code",
      "metadata": {
        "colab": {
          "base_uri": "https://localhost:8080/"
        },
        "id": "qw0GOqoEVAO2",
        "outputId": "75a682cd-a048-4062-840d-71519fb5e283"
      },
      "source": [
        "test_y"
      ],
      "execution_count": null,
      "outputs": [
        {
          "output_type": "execute_result",
          "data": {
            "text/plain": [
              "array([5, 5, 5, 5, 5, 5, 6, 6, 5, 6, 5, 6, 6, 7, 6, 6, 6, 6, 5, 6, 6, 7,\n",
              "       5, 6, 6, 5, 6, 6, 5, 5, 5, 5, 5, 6, 6, 6, 5, 4, 6, 5, 5, 5, 6, 6,\n",
              "       6, 6, 6, 5, 5, 6, 5, 8, 5, 6, 7, 5, 7, 5, 6, 5, 6, 5, 5, 5, 6, 7,\n",
              "       6, 5, 6, 7, 6, 6, 6, 6, 5, 6, 5, 7, 6, 5, 6, 5, 5, 5, 6, 7, 5, 5,\n",
              "       7, 6, 7, 7, 5, 5, 6, 6, 6, 5, 5, 5, 5, 6, 5, 5, 6, 4, 6, 6, 7, 5,\n",
              "       6, 6, 6, 6, 5, 5, 6, 7, 6, 6, 6, 7, 6, 6, 5, 6, 6, 5, 6, 6, 6, 6,\n",
              "       5, 6, 5, 6, 5, 5, 6, 5, 5, 5, 6, 6, 5, 5, 6, 5, 6, 6, 4, 5, 6, 5,\n",
              "       6, 6, 5, 6, 7, 5, 5, 7, 5, 8, 7, 6, 5, 5, 5, 5, 6, 4, 6, 6, 5, 3,\n",
              "       5, 5, 5, 5, 5, 6, 5, 6, 6, 7, 6, 6, 6, 5, 5, 5, 6, 5, 6, 5, 5, 6,\n",
              "       5, 4, 5, 7, 6, 6, 4, 6, 7, 5, 5, 6, 5, 7, 6, 6, 5, 7, 6, 7, 4, 8,\n",
              "       5, 6, 7, 5, 4, 6, 5, 5, 5, 5, 5, 5, 6, 6, 7, 5, 6, 5, 7, 7, 6, 4,\n",
              "       6, 6, 6, 6, 6, 5, 5, 5, 5, 5, 6, 6, 5, 6, 5, 6, 6, 5, 5, 5, 5, 5,\n",
              "       5, 6, 5, 6, 6, 4, 6, 7, 5, 6, 6, 6, 5, 6, 6, 5, 5, 7, 5, 6, 6, 6,\n",
              "       5, 6, 5, 6, 5, 7, 5, 6, 6, 7, 7, 6, 7, 6, 7, 5, 5, 6, 5, 5, 6, 5,\n",
              "       5, 5, 7, 6, 4, 5, 5, 6, 6, 5, 5, 6])"
            ]
          },
          "metadata": {},
          "execution_count": 18
        }
      ]
    },
    {
      "cell_type": "code",
      "metadata": {
        "id": "MfvMcHkeVFiP"
      },
      "source": [
        "from sklearn.linear_model import LinearRegression"
      ],
      "execution_count": null,
      "outputs": []
    },
    {
      "cell_type": "code",
      "metadata": {
        "id": "2t7bYtqeVI46"
      },
      "source": [
        "Lin = LinearRegression()"
      ],
      "execution_count": null,
      "outputs": []
    },
    {
      "cell_type": "code",
      "metadata": {
        "colab": {
          "base_uri": "https://localhost:8080/"
        },
        "id": "yJizkZtvVLc4",
        "outputId": "c046d01d-8e1a-4910-eabd-8c03db7f99d4"
      },
      "source": [
        "Lin.fit(train_x,train_y)"
      ],
      "execution_count": null,
      "outputs": [
        {
          "output_type": "execute_result",
          "data": {
            "text/plain": [
              "LinearRegression()"
            ]
          },
          "metadata": {},
          "execution_count": 21
        }
      ]
    },
    {
      "cell_type": "code",
      "metadata": {
        "id": "tg041cF96XqT"
      },
      "source": [
        "import matplotlib.pyplot as plt"
      ],
      "execution_count": null,
      "outputs": []
    },
    {
      "cell_type": "code",
      "metadata": {
        "id": "sKFdvl6XVhF0"
      },
      "source": [
        "pred_y = Lin.predict(test_x)"
      ],
      "execution_count": null,
      "outputs": []
    },
    {
      "cell_type": "code",
      "metadata": {
        "colab": {
          "base_uri": "https://localhost:8080/"
        },
        "id": "jGiYGKGBVvOY",
        "outputId": "eb60f288-520f-48d3-b365-a96f66b042c5"
      },
      "source": [
        "pred_y"
      ],
      "execution_count": null,
      "outputs": [
        {
          "output_type": "execute_result",
          "data": {
            "text/plain": [
              "array([5.70159683, 5.33136077, 5.03952027, 5.77688956, 5.52344831,\n",
              "       5.02567803, 5.85184093, 5.25284405, 5.44969177, 5.87664104,\n",
              "       6.15228953, 6.18831277, 5.61535679, 6.09666738, 6.39977021,\n",
              "       6.50039109, 5.45073413, 5.84711082, 5.28150642, 6.28849871,\n",
              "       5.7338303 , 5.71567312, 5.04065438, 5.93666529, 6.08004221,\n",
              "       5.58291092, 5.7289129 , 5.84938405, 5.30467074, 5.1558266 ,\n",
              "       5.42411515, 4.82423378, 5.18614429, 5.74486594, 6.38248782,\n",
              "       5.79321671, 5.64558347, 5.76568832, 6.04540235, 5.10419909,\n",
              "       5.31728609, 5.41749879, 5.45988441, 5.17510893, 6.45775089,\n",
              "       5.48567347, 6.38217452, 5.89241167, 5.04145741, 5.34921893,\n",
              "       5.1108924 , 6.73212537, 5.42193889, 5.04697998, 6.07278969,\n",
              "       5.34439347, 6.20090573, 5.21294526, 5.1959891 , 5.85182974,\n",
              "       6.08488166, 5.48125095, 5.08190154, 5.33209431, 5.4454263 ,\n",
              "       5.73029541, 6.29090032, 5.81268457, 6.12610927, 5.62341678,\n",
              "       6.24257053, 5.46456666, 6.02823398, 5.47206053, 5.46803814,\n",
              "       5.1824016 , 5.6427899 , 6.16963755, 5.51668371, 5.66168864,\n",
              "       6.54755047, 5.19466965, 5.29653663, 5.01829122, 5.08998751,\n",
              "       6.39677425, 5.26518808, 5.29458558, 6.15422349, 6.58081717,\n",
              "       6.48198743, 6.42422787, 5.09954353, 5.15157798, 5.44788865,\n",
              "       5.00419592, 5.25284405, 5.43291045, 5.15543075, 5.32036341,\n",
              "       4.98203681, 5.80497059, 5.14300591, 5.01976252, 5.60230172,\n",
              "       5.13175293, 5.2510957 , 5.86109698, 6.40390327, 5.4558761 ,\n",
              "       6.40085226, 5.62846211, 5.9556753 , 5.6358496 , 5.6964912 ,\n",
              "       4.92239524, 5.12951652, 6.30042442, 6.35013814, 5.33634148,\n",
              "       5.2086213 , 5.05679524, 5.72392808, 6.00703143, 5.23452695,\n",
              "       5.5138273 , 5.63195177, 5.12739939, 6.13124688, 6.23756636,\n",
              "       5.72103729, 6.30759251, 5.17299262, 5.42469433, 5.43098452,\n",
              "       5.77502359, 6.08163906, 5.37490847, 5.89912792, 5.2557154 ,\n",
              "       5.30368805, 5.33073282, 5.42440775, 5.78022375, 5.33521044,\n",
              "       5.75654757, 6.16581182, 5.40054849, 6.23874227, 5.39471591,\n",
              "       5.64923711, 5.48910401, 6.34767456, 5.23815486, 6.51989627,\n",
              "       5.61022313, 5.37967292, 6.72638902, 6.03788122, 5.7392128 ,\n",
              "       5.31864975, 5.78943178, 4.74935622, 6.58527885, 6.05673644,\n",
              "       5.56330283, 5.33241482, 5.70463498, 5.1665585 , 5.11515506,\n",
              "       5.3365212 , 5.16365189, 6.51555799, 6.16801413, 5.57687584,\n",
              "       4.9207209 , 5.4815904 , 5.51214415, 5.12456541, 5.16172763,\n",
              "       4.23881397, 5.1959891 , 5.42769733, 6.08322913, 5.12931367,\n",
              "       6.61099111, 6.17498162, 4.95269896, 5.7090236 , 4.9234717 ,\n",
              "       5.58843101, 5.09328613, 5.69451852, 5.28590594, 6.06565343,\n",
              "       5.04036419, 5.67802791, 5.44037409, 5.34077812, 5.87040766,\n",
              "       5.31379488, 6.15850543, 6.19353347, 5.86395859, 5.50200386,\n",
              "       5.25771676, 6.5015564 , 4.64880334, 5.53474474, 5.18102229,\n",
              "       5.22903761, 6.50619924, 6.547242  , 6.232343  , 5.34077812,\n",
              "       6.38781126, 6.29746386, 6.38015106, 5.42688917, 6.29099637,\n",
              "       5.58843101, 5.81753763, 6.87372432, 5.04209705, 4.99679905,\n",
              "       5.8538255 , 5.73990062, 5.23073727, 5.29579696, 5.22008233,\n",
              "       5.7518505 , 5.57467106, 6.19414309, 6.0873951 , 6.18898824,\n",
              "       5.58074263, 6.30647916, 5.69526069, 6.14075607, 6.48818407,\n",
              "       5.93147001, 5.11636895, 5.5614098 , 5.81144763, 6.34265677,\n",
              "       6.86537263, 6.19407965, 4.97116879, 5.2777513 , 5.42309905,\n",
              "       5.57424396, 5.93528536, 5.32960103, 6.26430021, 5.0604897 ,\n",
              "       5.17670934, 5.32127299, 5.32727839, 5.50162787, 5.35494547,\n",
              "       5.23105407, 5.0237734 , 5.16526818, 5.56850693, 5.12987052,\n",
              "       6.07921183, 5.67269467, 5.55994217, 6.14538592, 5.00777109,\n",
              "       5.60060934, 6.50085256, 5.65455604, 6.11606509, 6.2183207 ,\n",
              "       5.77767389, 5.4324668 , 5.72588939, 6.48855086, 5.16052235,\n",
              "       5.05463688, 5.62341678, 5.24182222, 5.64540937, 6.01416645,\n",
              "       5.63841755, 4.31101722, 5.78697098, 5.14104476, 6.00515666,\n",
              "       5.09631194, 6.0467818 , 4.89308418, 5.35734306, 5.79339111,\n",
              "       6.16499346, 5.52266357, 6.24074651, 6.29430055, 6.62217253,\n",
              "       5.78669407, 4.78948308, 5.27185581, 5.73656947, 5.59881355,\n",
              "       4.83877077, 5.76295526, 5.26554518, 5.06620875, 5.24928386,\n",
              "       6.0877549 , 5.8543223 , 5.18329102, 5.48885799, 5.03013015,\n",
              "       5.64912868, 5.406183  , 5.05344702, 5.94917374, 5.96851102])"
            ]
          },
          "metadata": {},
          "execution_count": 24
        }
      ]
    },
    {
      "cell_type": "code",
      "metadata": {
        "colab": {
          "base_uri": "https://localhost:8080/"
        },
        "id": "gOxzR7Hxup9X",
        "outputId": "fc372ca8-37d7-48b2-8148-7b9a0e2b7eab"
      },
      "source": [
        "test_y"
      ],
      "execution_count": null,
      "outputs": [
        {
          "output_type": "execute_result",
          "data": {
            "text/plain": [
              "array([5, 5, 5, 5, 5, 5, 6, 6, 5, 6, 5, 6, 6, 7, 6, 6, 6, 6, 5, 6, 6, 7,\n",
              "       5, 6, 6, 5, 6, 6, 5, 5, 5, 5, 5, 6, 6, 6, 5, 4, 6, 5, 5, 5, 6, 6,\n",
              "       6, 6, 6, 5, 5, 6, 5, 8, 5, 6, 7, 5, 7, 5, 6, 5, 6, 5, 5, 5, 6, 7,\n",
              "       6, 5, 6, 7, 6, 6, 6, 6, 5, 6, 5, 7, 6, 5, 6, 5, 5, 5, 6, 7, 5, 5,\n",
              "       7, 6, 7, 7, 5, 5, 6, 6, 6, 5, 5, 5, 5, 6, 5, 5, 6, 4, 6, 6, 7, 5,\n",
              "       6, 6, 6, 6, 5, 5, 6, 7, 6, 6, 6, 7, 6, 6, 5, 6, 6, 5, 6, 6, 6, 6,\n",
              "       5, 6, 5, 6, 5, 5, 6, 5, 5, 5, 6, 6, 5, 5, 6, 5, 6, 6, 4, 5, 6, 5,\n",
              "       6, 6, 5, 6, 7, 5, 5, 7, 5, 8, 7, 6, 5, 5, 5, 5, 6, 4, 6, 6, 5, 3,\n",
              "       5, 5, 5, 5, 5, 6, 5, 6, 6, 7, 6, 6, 6, 5, 5, 5, 6, 5, 6, 5, 5, 6,\n",
              "       5, 4, 5, 7, 6, 6, 4, 6, 7, 5, 5, 6, 5, 7, 6, 6, 5, 7, 6, 7, 4, 8,\n",
              "       5, 6, 7, 5, 4, 6, 5, 5, 5, 5, 5, 5, 6, 6, 7, 5, 6, 5, 7, 7, 6, 4,\n",
              "       6, 6, 6, 6, 6, 5, 5, 5, 5, 5, 6, 6, 5, 6, 5, 6, 6, 5, 5, 5, 5, 5,\n",
              "       5, 6, 5, 6, 6, 4, 6, 7, 5, 6, 6, 6, 5, 6, 6, 5, 5, 7, 5, 6, 6, 6,\n",
              "       5, 6, 5, 6, 5, 7, 5, 6, 6, 7, 7, 6, 7, 6, 7, 5, 5, 6, 5, 5, 6, 5,\n",
              "       5, 5, 7, 6, 4, 5, 5, 6, 6, 5, 5, 6])"
            ]
          },
          "metadata": {},
          "execution_count": 25
        }
      ]
    },
    {
      "cell_type": "code",
      "metadata": {
        "colab": {
          "base_uri": "https://localhost:8080/"
        },
        "id": "J3R9JnWgZDa6",
        "outputId": "6885b56a-db60-4850-bcba-72ef3f71bf44"
      },
      "source": [
        "abs(test_y - pred_y)"
      ],
      "execution_count": null,
      "outputs": [
        {
          "output_type": "execute_result",
          "data": {
            "text/plain": [
              "array([0.70159683, 0.33136077, 0.03952027, 0.77688956, 0.52344831,\n",
              "       0.02567803, 0.14815907, 0.74715595, 0.44969177, 0.12335896,\n",
              "       1.15228953, 0.18831277, 0.38464321, 0.90333262, 0.39977021,\n",
              "       0.50039109, 0.54926587, 0.15288918, 0.28150642, 0.28849871,\n",
              "       0.2661697 , 1.28432688, 0.04065438, 0.06333471, 0.08004221,\n",
              "       0.58291092, 0.2710871 , 0.15061595, 0.30467074, 0.1558266 ,\n",
              "       0.42411515, 0.17576622, 0.18614429, 0.25513406, 0.38248782,\n",
              "       0.20678329, 0.64558347, 1.76568832, 0.04540235, 0.10419909,\n",
              "       0.31728609, 0.41749879, 0.54011559, 0.82489107, 0.45775089,\n",
              "       0.51432653, 0.38217452, 0.89241167, 0.04145741, 0.65078107,\n",
              "       0.1108924 , 1.26787463, 0.42193889, 0.95302002, 0.92721031,\n",
              "       0.34439347, 0.79909427, 0.21294526, 0.8040109 , 0.85182974,\n",
              "       0.08488166, 0.48125095, 0.08190154, 0.33209431, 0.5545737 ,\n",
              "       1.26970459, 0.29090032, 0.81268457, 0.12610927, 1.37658322,\n",
              "       0.24257053, 0.53543334, 0.02823398, 0.52793947, 0.46803814,\n",
              "       0.8175984 , 0.6427899 , 0.83036245, 0.48331629, 0.66168864,\n",
              "       0.54755047, 0.19466965, 0.29653663, 0.01829122, 0.91001249,\n",
              "       0.60322575, 0.26518808, 0.29458558, 0.84577651, 0.58081717,\n",
              "       0.51801257, 0.57577213, 0.09954353, 0.15157798, 0.55211135,\n",
              "       0.99580408, 0.74715595, 0.43291045, 0.15543075, 0.32036341,\n",
              "       0.01796319, 0.19502941, 0.14300591, 0.01976252, 0.39769828,\n",
              "       1.13175293, 0.7489043 , 0.13890302, 0.59609673, 0.4558761 ,\n",
              "       0.40085226, 0.37153789, 0.0443247 , 0.3641504 , 0.6964912 ,\n",
              "       0.07760476, 0.87048348, 0.69957558, 0.35013814, 0.66365852,\n",
              "       0.7913787 , 1.94320476, 0.27607192, 0.00703143, 0.23452695,\n",
              "       0.4861727 , 0.36804823, 0.12739939, 0.13124688, 0.23756636,\n",
              "       0.27896271, 0.30759251, 0.17299262, 0.57530567, 0.43098452,\n",
              "       0.22497641, 1.08163906, 0.37490847, 0.10087208, 0.2557154 ,\n",
              "       0.30368805, 0.33073282, 0.57559225, 0.21977625, 0.33521044,\n",
              "       0.75654757, 0.16581182, 0.40054849, 0.23874227, 0.60528409,\n",
              "       1.64923711, 0.48910401, 0.34767456, 0.23815486, 0.51989627,\n",
              "       0.38977687, 0.37967292, 0.72638902, 0.96211878, 0.7392128 ,\n",
              "       0.31864975, 1.21056822, 0.25064378, 1.41472115, 0.94326356,\n",
              "       0.43669717, 0.33241482, 0.70463498, 0.1665585 , 0.11515506,\n",
              "       0.6634788 , 1.16365189, 0.51555799, 0.16801413, 0.57687584,\n",
              "       1.9207209 , 0.4815904 , 0.51214415, 0.12456541, 0.16172763,\n",
              "       0.76118603, 0.8040109 , 0.42769733, 0.08322913, 0.87068633,\n",
              "       0.38900889, 0.17498162, 1.04730104, 0.2909764 , 0.0765283 ,\n",
              "       0.58843101, 0.09328613, 0.30548148, 0.28590594, 0.06565343,\n",
              "       0.04036419, 0.67802791, 0.55962591, 0.34077812, 1.87040766,\n",
              "       0.31379488, 0.84149457, 0.19353347, 0.13604141, 1.50200386,\n",
              "       0.74228324, 0.4984436 , 0.35119666, 0.53474474, 0.81897771,\n",
              "       0.22903761, 0.49380076, 0.547242  , 0.232343  , 0.34077812,\n",
              "       0.61218874, 0.29746386, 0.61984894, 1.42688917, 1.70900363,\n",
              "       0.58843101, 0.18246237, 0.12627568, 0.04209705, 0.99679905,\n",
              "       0.1461745 , 0.73990062, 0.23073727, 0.29579696, 0.22008233,\n",
              "       0.7518505 , 0.57467106, 0.19414309, 0.0873951 , 0.81101176,\n",
              "       0.58074263, 0.30647916, 0.69526069, 0.85924393, 0.51181593,\n",
              "       0.06852999, 1.11636895, 0.4385902 , 0.18855237, 0.34265677,\n",
              "       0.86537263, 0.19407965, 0.02883121, 0.2777513 , 0.42309905,\n",
              "       0.57424396, 0.93528536, 0.67039897, 0.26430021, 0.0604897 ,\n",
              "       0.82329066, 0.32127299, 0.67272161, 0.49837213, 0.35494547,\n",
              "       0.23105407, 0.0237734 , 0.16526818, 0.56850693, 0.12987052,\n",
              "       0.07921183, 0.67269467, 0.44005783, 0.14538592, 1.00777109,\n",
              "       0.39939066, 0.49914744, 0.65455604, 0.11606509, 0.2183207 ,\n",
              "       0.22232611, 0.4324668 , 0.27411061, 0.48855086, 0.16052235,\n",
              "       0.05463688, 1.37658322, 0.24182222, 0.35459063, 0.01416645,\n",
              "       0.36158245, 0.68898278, 0.21302902, 0.14104476, 0.00515666,\n",
              "       0.09631194, 0.9532182 , 0.10691582, 0.64265694, 0.20660889,\n",
              "       0.83500654, 1.47733643, 0.24074651, 0.70569945, 0.62217253,\n",
              "       1.21330593, 0.21051692, 0.27185581, 0.26343053, 0.59881355,\n",
              "       0.16122923, 0.23704474, 0.26554518, 0.06620875, 0.24928386,\n",
              "       0.9122451 , 0.1456777 , 1.18329102, 0.48885799, 0.03013015,\n",
              "       0.35087132, 0.593817  , 0.05344702, 0.94917374, 0.03148898])"
            ]
          },
          "metadata": {},
          "execution_count": 26
        }
      ]
    },
    {
      "cell_type": "code",
      "metadata": {
        "colab": {
          "base_uri": "https://localhost:8080/"
        },
        "id": "SjmuNKNeZSEd",
        "outputId": "f62bcb63-826f-4074-e08a-911e3c42246d"
      },
      "source": [
        "abs(test_y - pred_y).mean()"
      ],
      "execution_count": null,
      "outputs": [
        {
          "output_type": "execute_result",
          "data": {
            "text/plain": [
              "0.4740267622773482"
            ]
          },
          "metadata": {},
          "execution_count": 27
        }
      ]
    },
    {
      "cell_type": "code",
      "metadata": {
        "id": "EW_U2lwFZX3W"
      },
      "source": [
        "from sklearn.metrics import mean_absolute_error"
      ],
      "execution_count": null,
      "outputs": []
    },
    {
      "cell_type": "code",
      "metadata": {
        "colab": {
          "base_uri": "https://localhost:8080/"
        },
        "id": "rSbJmN_EZc4m",
        "outputId": "814e8d77-2c08-4dc5-87db-f6c7b9b3938f"
      },
      "source": [
        "mean_absolute_error(test_y, pred_y)"
      ],
      "execution_count": null,
      "outputs": [
        {
          "output_type": "execute_result",
          "data": {
            "text/plain": [
              "0.4740267622773482"
            ]
          },
          "metadata": {},
          "execution_count": 29
        }
      ]
    },
    {
      "cell_type": "code",
      "metadata": {
        "colab": {
          "base_uri": "https://localhost:8080/"
        },
        "id": "ZQ9EawF-Zgrq",
        "outputId": "081ad16c-ac2b-45b6-9d62-2683a329545a"
      },
      "source": [
        "Lin.score(train_x, train_y)"
      ],
      "execution_count": null,
      "outputs": [
        {
          "output_type": "execute_result",
          "data": {
            "text/plain": [
              "0.35261930269377306"
            ]
          },
          "metadata": {},
          "execution_count": 30
        }
      ]
    },
    {
      "cell_type": "code",
      "metadata": {
        "colab": {
          "base_uri": "https://localhost:8080/"
        },
        "id": "vz2weOboZk64",
        "outputId": "3ad066e7-1b67-4a81-ebf9-ac082677a168"
      },
      "source": [
        "Lin.score(test_x, test_y)"
      ],
      "execution_count": null,
      "outputs": [
        {
          "output_type": "execute_result",
          "data": {
            "text/plain": [
              "0.3920934623086403"
            ]
          },
          "metadata": {},
          "execution_count": 31
        }
      ]
    },
    {
      "cell_type": "code",
      "metadata": {
        "id": "FtcArfXLZsW1",
        "colab": {
          "base_uri": "https://localhost:8080/"
        },
        "outputId": "65ce011c-733f-46b1-e611-a29c4c866936"
      },
      "source": [
        "print(\"My model is 36.3 percent accurate\")"
      ],
      "execution_count": null,
      "outputs": [
        {
          "output_type": "stream",
          "name": "stdout",
          "text": [
            "My model is 36.3 percent accurate\n"
          ]
        }
      ]
    }
  ]
}